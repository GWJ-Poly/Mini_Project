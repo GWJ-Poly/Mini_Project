{
 "cells": [
  {
   "cell_type": "code",
   "execution_count": 1,
   "id": "6b32c3cb-505a-4c2a-921e-016f4cfd5959",
   "metadata": {},
   "outputs": [],
   "source": [
    "# M5 Forecasting - Statistical Data Analysis Script\n",
    "# -------------------------------------------------\n",
    "# This script extracts descriptive, distributional, and correlation-based statistics\n",
    "# from the M5 Forecasting dataset to support Statistical Machine Learning analysis.\n",
    "\n",
    "# %% [markdown]\n",
    "import pandas as pd\n",
    "import numpy as np\n",
    "import matplotlib.pyplot as plt\n",
    "import seaborn as sns\n",
    "from scipy.stats import skew, kurtosis\n",
    "from statsmodels.tsa.stattools import adfuller\n",
    "import os"
   ]
  },
  {
   "cell_type": "markdown",
   "id": "471431f6-4544-461a-8220-1a8ccefa701a",
   "metadata": {},
   "source": [
    " ## 1. Load Data"
   ]
  },
  {
   "cell_type": "code",
   "execution_count": 2,
   "id": "9c31b583-6374-4768-b3f2-2344fe7bc2bb",
   "metadata": {},
   "outputs": [],
   "source": [
    "data_path = 'datas/'\n",
    "calendar = pd.read_csv(data_path + 'calendar.csv')\n",
    "prices = pd.read_csv(data_path + 'sell_prices.csv')\n",
    "sales = pd.read_csv(data_path + 'sales_train_validation.csv')\n",
    "\n",
    "# Melt the sales dataset into long format\n",
    "sales_long = sales.melt(id_vars=['id', 'item_id', 'dept_id', 'cat_id', 'store_id', 'state_id'],\n",
    "                        var_name='d', value_name='sales')\n",
    "sales_long = sales_long.merge(calendar[['d', 'date']], on='d', how='left')\n",
    "sales_long['date'] = pd.to_datetime(sales_long['date'])"
   ]
  },
  {
   "cell_type": "markdown",
   "id": "732d860d-1652-4fe7-9e10-4587019032c5",
   "metadata": {},
   "source": [
    " ## 2. Basic Descriptive Statistics"
   ]
  },
  {
   "cell_type": "code",
   "execution_count": 3,
   "id": "cb2572aa-ca7d-46f5-9c10-a165c3866ed8",
   "metadata": {},
   "outputs": [
    {
     "name": "stdout",
     "output_type": "stream",
     "text": [
      "Sales statistics saved to sales_statistics.csv\n"
     ]
    }
   ],
   "source": [
    "sales_stats = sales_long.groupby(['item_id', 'store_id'])['sales'].agg(\n",
    "    mean_sales='mean',\n",
    "    median_sales='median',\n",
    "    std_sales='std',\n",
    "    var_sales='var',\n",
    "    skewness=lambda x: skew(x, nan_policy='omit'),\n",
    "    kurtosis=lambda x: kurtosis(x, nan_policy='omit'),\n",
    "    zero_rate=lambda x: (x == 0).mean(),\n",
    "    cv=lambda x: np.std(x) / (np.mean(x) + 1e-9)\n",
    ").reset_index()\n",
    "\n",
    "sales_stats.to_csv('sales_statistics.csv', index=False)\n",
    "print('Sales statistics saved to sales_statistics.csv')"
   ]
  },
  {
   "cell_type": "markdown",
   "id": "a7a9f7dd-b01d-47f9-b4b8-4dd00bc5c8c2",
   "metadata": {},
   "source": [
    " ## 3. Stationarity Check (ADF Test)"
   ]
  },
  {
   "cell_type": "code",
   "execution_count": 9,
   "id": "d80081b3-dc2e-4af5-ae87-a1c515660b3e",
   "metadata": {},
   "outputs": [
    {
     "name": "stdout",
     "output_type": "stream",
     "text": [
      "ADF Statistic: -7.616e+00, p-value: 2.191e-11\n"
     ]
    }
   ],
   "source": [
    "sample_series = sales_long[sales_long['item_id'] == sales_long['item_id'].iloc[0]]['sales']\n",
    "adf_stat, adf_p, _, _, _, _ = adfuller(sample_series)\n",
    "print(f\"ADF Statistic: {adf_stat:.3e}, p-value: {adf_p:.3e}\")"
   ]
  },
  {
   "cell_type": "markdown",
   "id": "2758a647-f481-47e2-88f2-582719da911c",
   "metadata": {},
   "source": [
    " ## 4. Price Statistics"
   ]
  },
  {
   "cell_type": "code",
   "execution_count": 5,
   "id": "9f7ce707-f37c-4de0-899e-64ca648d03cb",
   "metadata": {},
   "outputs": [
    {
     "name": "stdout",
     "output_type": "stream",
     "text": [
      "Price statistics saved to price_statistics.csv\n"
     ]
    }
   ],
   "source": [
    "price_stats = prices.groupby(['item_id'])['sell_price'].agg(\n",
    "    mean_price='mean',\n",
    "    std_price='std',\n",
    "    min_price='min',\n",
    "    max_price='max',\n",
    "    volatility=lambda x: np.std(x) / (np.mean(x) + 1e-9)\n",
    ").reset_index()\n",
    "\n",
    "price_stats.to_csv('price_statistics.csv', index=False)\n",
    "print('Price statistics saved to price_statistics.csv')"
   ]
  },
  {
   "cell_type": "markdown",
   "id": "94175fee-b845-48e9-a4b9-9f558b297d99",
   "metadata": {},
   "source": [
    " ## 5. Correlation Analysis (Sales vs Price)\n",
    " Merge sales and prices using week info"
   ]
  },
  {
   "cell_type": "code",
   "execution_count": 6,
   "id": "69b6f315-3858-4729-9d48-19f7a1abf2b2",
   "metadata": {},
   "outputs": [
    {
     "name": "stdout",
     "output_type": "stream",
     "text": [
      "Correlation between sales and price: -0.151\n"
     ]
    }
   ],
   "source": [
    "calendar_prices = calendar[['d', 'wm_yr_wk']]\n",
    "sales_price = sales_long.merge(calendar_prices, on='d', how='left')\n",
    "sales_price = sales_price.merge(prices, on=['store_id', 'item_id', 'wm_yr_wk'], how='left')\n",
    "\n",
    "corr_data = sales_price[['sales', 'sell_price']].dropna()\n",
    "correlation = corr_data.corr().iloc[0, 1]\n",
    "print(f'Correlation between sales and price: {correlation:.3f}')"
   ]
  },
  {
   "cell_type": "markdown",
   "id": "86ac56e6-4428-48a8-bf1a-d8e0f3923bcb",
   "metadata": {},
   "source": [
    " ## 6. Temporal & Categorical Trends"
   ]
  },
  {
   "cell_type": "code",
   "execution_count": 7,
   "id": "b5ab8db9-e5df-4695-b1c3-645f1722c95e",
   "metadata": {},
   "outputs": [],
   "source": [
    "sales_long['weekday'] = sales_long['date'].dt.day_name()\n",
    "sales_long['month'] = sales_long['date'].dt.month\n",
    "\n",
    "# Mean sales by weekday\n",
    "weekday_mean = sales_long.groupby('weekday')['sales'].mean().reindex(\n",
    "    ['Monday','Tuesday','Wednesday','Thursday','Friday','Saturday','Sunday']\n",
    ")\n",
    "plt.figure(figsize=(8,4))\n",
    "weekday_mean.plot(kind='bar', color='skyblue')\n",
    "plt.title('Average Sales by Weekday')\n",
    "plt.ylabel('Mean Sales')\n",
    "plt.tight_layout()\n",
    "plt.savefig('sales_by_weekday.png', dpi=200)\n",
    "plt.close()\n",
    "\n",
    "# Mean sales by month\n",
    "monthly_mean = sales_long.groupby('month')['sales'].mean()\n",
    "plt.figure(figsize=(8,4))\n",
    "monthly_mean.plot(kind='line', marker='o', color='coral')\n",
    "plt.title('Average Sales by Month')\n",
    "plt.xlabel('Month')\n",
    "plt.ylabel('Mean Sales')\n",
    "plt.tight_layout()\n",
    "plt.savefig('sales_by_month.png', dpi=200)\n",
    "plt.close()"
   ]
  },
  {
   "cell_type": "markdown",
   "id": "7136e3c2-ff89-4a67-999f-e5825ea85b32",
   "metadata": {},
   "source": [
    " ## 7. Correlation Heatmap for Summary Metrics"
   ]
  },
  {
   "cell_type": "code",
   "execution_count": 8,
   "id": "abaf2899-696e-4e9d-8eb5-8df21ac18edb",
   "metadata": {},
   "outputs": [],
   "source": [
    "corr_matrix = sales_stats[['mean_sales','std_sales','cv','zero_rate']].corr()\n",
    "plt.figure(figsize=(6,4))\n",
    "sns.heatmap(corr_matrix, annot=True, cmap='coolwarm', fmt='.2f')\n",
    "plt.title('Correlation Heatmap of Sales Statistics')\n",
    "plt.tight_layout()\n",
    "plt.savefig('correlation_heatmap.png', dpi=200)\n",
    "plt.close()"
   ]
  }
 ],
 "metadata": {
  "kernelspec": {
   "display_name": "math5470_env",
   "language": "python",
   "name": "python3"
  },
  "language_info": {
   "codemirror_mode": {
    "name": "ipython",
    "version": 3
   },
   "file_extension": ".py",
   "mimetype": "text/x-python",
   "name": "python",
   "nbconvert_exporter": "python",
   "pygments_lexer": "ipython3",
   "version": "3.10.18"
  }
 },
 "nbformat": 4,
 "nbformat_minor": 2
}
