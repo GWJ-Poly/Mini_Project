{
 "cells": [
  {
   "cell_type": "code",
   "execution_count": null,
   "id": "f757b251-e0f6-4438-890b-ee1a2e86255c",
   "metadata": {},
   "outputs": [],
   "source": [
    "# M5 Forecasting Extended Notebook (Full Workflow + Evaluation Dashboard + Report Generator)\n",
    "# -----------------------------------------------------------------------\n",
    "# Includes:\n",
    "# (A) WRMSSE evaluation\n",
    "# (B) Hierarchical forecasting and model ensembling\n",
    "# (C) Feature importance visualization\n",
    "# (D) Model-based Kaggle submission (F1–F28)\n",
    "# (E) Evaluation dashboard\n",
    "# (F) Automatic report generation (Markdown & PDF)\n",
    "\n",
    "# %% [markdown]\n",
    "import pandas as pd\n",
    "import numpy as np\n",
    "import lightgbm as lgb\n",
    "from sklearn.metrics import mean_squared_error, mean_absolute_error, r2_score\n",
    "import matplotlib.pyplot as plt\n",
    "import seaborn as sns\n",
    "from sklearn.linear_model import LinearRegression\n",
    "import os\n",
    "import gc"
   ]
  },
  {
   "cell_type": "markdown",
   "id": "71616312-39a0-4e3b-a046-dabfe21a2aac",
   "metadata": {},
   "source": [
    " ## 1. Load and Prepare Data"
   ]
  },
  {
   "cell_type": "code",
   "execution_count": null,
   "id": "a86a1e6b-1ce4-4efd-8609-d74bf952dce5",
   "metadata": {},
   "outputs": [],
   "source": [
    "data_path = 'datas/'\n",
    "df_calendar = pd.read_csv(data_path + 'calendar.csv')\n",
    "df_prices = pd.read_csv(data_path + 'sell_prices.csv')\n",
    "df_sales = pd.read_csv(data_path + 'sales_train_validation.csv')\n",
    "\n",
    "df_long = df_sales.melt(id_vars=['id', 'item_id', 'dept_id', 'cat_id', 'store_id', 'state_id'],\n",
    "                        var_name='d', value_name='sales')\n",
    "df_long = df_long.merge(df_calendar[['d','date','wm_yr_wk','event_name_1','event_type_1','snap_CA','snap_TX','snap_WI']], on='d', how='left')\n",
    "df_long = df_long.merge(df_prices, on=['store_id','item_id','wm_yr_wk'], how='left')\n",
    "df_long['date'] = pd.to_datetime(df_long['date'])\n",
    "\n",
    "for lag in [7, 28]:\n",
    "    df_long[f'lag_{lag}'] = df_long.groupby(['id'])['sales'].shift(lag)\n",
    "for window in [7, 28]:\n",
    "    df_long[f'rolling_mean_{window}'] = df_long.groupby(['id'])['sales'].transform(lambda x: x.shift(28).rolling(window).mean())\n",
    "\n",
    "df_long['price_change'] = df_long.groupby(['id'])['sell_price'].transform(lambda x: x.pct_change())\n",
    "df_long['dayofweek'] = df_long['date'].dt.dayofweek\n",
    "df_long['month'] = df_long['date'].dt.month\n",
    "df_long['year'] = df_long['date'].dt.year\n",
    "df_model = df_long.dropna(subset=['lag_7','lag_28'])\n",
    "\n",
    "max_date = df_model['date'].max()\n",
    "valid_start = max_date - pd.Timedelta(days=28)\n",
    "train = df_model[df_model['date'] < valid_start]\n",
    "valid = df_model[df_model['date'] >= valid_start]\n",
    "\n",
    "features = ['lag_7','lag_28','rolling_mean_7','rolling_mean_28','sell_price','price_change','dayofweek','month','year']\n",
    "X_train, y_train = train[features], train['sales']\n",
    "X_valid, y_valid = valid[features], valid['sales']"
   ]
  },
  {
   "cell_type": "markdown",
   "id": "79ac077e-4db3-459d-a2db-182e158c8222",
   "metadata": {},
   "source": [
    " ## 2. Train LightGBM Model"
   ]
  },
  {
   "cell_type": "code",
   "execution_count": null,
   "id": "fab5d3d8-b5f0-4f9b-80d9-2fbfd1b9fed0",
   "metadata": {},
   "outputs": [
    {
     "name": "stdout",
     "output_type": "stream",
     "text": [
      "Training until validation scores don't improve for 50 rounds\n",
      "[100]\ttrain's rmse: 2.27639\tvalid's rmse: 2.09977\n",
      "[200]\ttrain's rmse: 2.25252\tvalid's rmse: 2.09753\n",
      "Early stopping, best iteration is:\n",
      "[207]\ttrain's rmse: 2.2513\tvalid's rmse: 2.09737\n"
     ]
    }
   ],
   "source": [
    "params = {\n",
    "    'objective': 'regression',\n",
    "    'metric': 'rmse',\n",
    "    'boosting_type': 'gbdt',\n",
    "    'learning_rate': 0.05,\n",
    "    'num_leaves': 64,\n",
    "    'feature_fraction': 0.9,\n",
    "    'bagging_fraction': 0.8,\n",
    "    'bagging_freq': 5,\n",
    "    'verbose': -1\n",
    "}\n",
    "\n",
    "train_data = lgb.Dataset(X_train, label=y_train)\n",
    "valid_data = lgb.Dataset(X_valid, label=y_valid, reference=train_data)\n",
    "\n",
    "model_lgb = lgb.train(\n",
    "    params,\n",
    "    train_data,\n",
    "    num_boost_round=500,\n",
    "    valid_sets=[train_data, valid_data],\n",
    "    valid_names=['train', 'valid'],\n",
    "    callbacks=[\n",
    "        lgb.early_stopping(stopping_rounds=50),\n",
    "        lgb.log_evaluation(period=100)\n",
    "    ]\n",
    ")\n",
    "\n",
    "y_pred_lgb = model_lgb.predict(X_valid, num_iteration=model_lgb.best_iteration)"
   ]
  },
  {
   "cell_type": "markdown",
   "id": "37be2ea0-2adf-4ac7-b380-1a3f3f606177",
   "metadata": {},
   "source": [
    " ## 3. WRMSSE Evaluation"
   ]
  },
  {
   "cell_type": "code",
   "execution_count": null,
   "id": "7fc3d9ac-ff8e-4e5c-ac29-f9552cd0e363",
   "metadata": {},
   "outputs": [],
   "source": [
    "def wrmsse(y_true, y_pred, train_sales):\n",
    "    series_count = y_true.shape[0]\n",
    "    scale = []\n",
    "    for s in range(series_count):\n",
    "        diff = np.diff(train_sales[s])\n",
    "        scale.append(np.mean(diff**2))\n",
    "    scale = np.array(scale)\n",
    "    weights = train_sales.sum(axis=1) / train_sales.sum()\n",
    "    mse = ((y_true - y_pred)**2).mean(axis=1)\n",
    "    wrmsse_val = np.sqrt(np.mean(weights * mse / scale))\n",
    "    return wrmsse_val\n",
    "\n",
    "y_true = y_valid.values.reshape(1,-1)\n",
    "y_pred = y_pred_lgb.reshape(1,-1)\n",
    "train_sales_arr = y_train.values.reshape(1,-1)\n",
    "wrmsse_score = wrmsse(y_true, y_pred, train_sales_arr)"
   ]
  },
  {
   "cell_type": "markdown",
   "id": "ceb44cef-d45c-4279-b5ff-f60385465ade",
   "metadata": {},
   "source": [
    " ## 4. Ensembling & Hierarchical Forecasting"
   ]
  },
  {
   "cell_type": "code",
   "execution_count": null,
   "id": "7e1042eb-027b-4a85-bcee-04a3b2dfed87",
   "metadata": {},
   "outputs": [
    {
     "name": "stderr",
     "output_type": "stream",
     "text": [
      "<ipython-input-5-88887fd3832a>:1: SettingWithCopyWarning: \n",
      "A value is trying to be set on a copy of a slice from a DataFrame.\n",
      "Try using .loc[row_indexer,col_indexer] = value instead\n",
      "\n",
      "See the caveats in the documentation: https://pandas.pydata.org/pandas-docs/stable/user_guide/indexing.html#returning-a-view-versus-a-copy\n",
      "  valid['pred_lgb'] = y_pred_lgb\n"
     ]
    }
   ],
   "source": [
    "valid['pred_lgb'] = y_pred_lgb\n",
    "agg_state = valid.groupby(['state_id','date'])[['sales','pred_lgb']].sum().reset_index()\n",
    "\n",
    "meta_model = LinearRegression()\n",
    "meta_X = np.vstack([y_pred_lgb, y_valid.values]).T\n",
    "meta_y = y_valid.values\n",
    "meta_model.fit(meta_X, meta_y)\n",
    "meta_pred = meta_model.predict(meta_X)"
   ]
  },
  {
   "cell_type": "markdown",
   "id": "1df328ea-3af6-4268-9e25-ba46a59e0ca8",
   "metadata": {},
   "source": [
    " ## 5. Feature Importance Visualization"
   ]
  },
  {
   "cell_type": "code",
   "execution_count": null,
   "id": "22d0426c-6b96-45bb-9091-8d69e5169f38",
   "metadata": {},
   "outputs": [
    {
     "name": "stderr",
     "output_type": "stream",
     "text": [
      "<ipython-input-6-11ca2d09930f>:8: FutureWarning: \n",
      "\n",
      "Passing `palette` without assigning `hue` is deprecated and will be removed in v0.14.0. Assign the `y` variable to `hue` and set `legend=False` for the same effect.\n",
      "\n",
      "  sns.barplot(data=importances, y='feature', x='importance_gain', palette='viridis')\n"
     ]
    }
   ],
   "source": [
    "importances = pd.DataFrame({\n",
    "    'feature': features,\n",
    "    'importance_gain': model_lgb.feature_importance(importance_type='gain'),\n",
    "    'importance_split': model_lgb.feature_importance(importance_type='split')\n",
    "}).sort_values(by='importance_gain', ascending=False)\n",
    "\n",
    "plt.figure(figsize=(8,5))\n",
    "sns.barplot(data=importances, y='feature', x='importance_gain', palette='viridis')\n",
    "plt.title('Feature Importance (Gain)')\n",
    "plt.tight_layout()\n",
    "plt.savefig('feature_importance.png', dpi=200)\n",
    "plt.close()"
   ]
  },
  {
   "cell_type": "markdown",
   "id": "7a201f60-5c79-4632-ba28-3f35ad85c31b",
   "metadata": {},
   "source": [
    " ## 6. Generate Model-Based Kaggle Submission (F1–F28)"
   ]
  },
  {
   "cell_type": "code",
   "execution_count": null,
   "id": "120ce843-a298-4dd6-8ca6-8c090af1e040",
   "metadata": {},
   "outputs": [
    {
     "name": "stdout",
     "output_type": "stream",
     "text": [
      "Generating model-based forecasts...\n"
     ]
    }
   ],
   "source": [
    "print('Generating model-based forecasts...')\n",
    "last_date = df_model['date'].max()\n",
    "forecast_days = 28\n",
    "future_dfs = []\n",
    "for day_offset in range(1, forecast_days+1):\n",
    "    df_future = df_model[df_model['date'] == last_date - pd.Timedelta(days=28) + pd.Timedelta(days=day_offset)].copy()\n",
    "    df_future['date'] = last_date + pd.Timedelta(days=day_offset)\n",
    "    df_future['dayofweek'] = df_future['date'].dt.dayofweek\n",
    "    df_future['month'] = df_future['date'].dt.month\n",
    "    df_future['year'] = df_future['date'].dt.year\n",
    "    df_future['lag_7'] = df_model.groupby('id')['sales'].transform(lambda x: x.shift(day_offset+7))\n",
    "    df_future['lag_28'] = df_model.groupby('id')['sales'].transform(lambda x: x.shift(day_offset+28))\n",
    "    df_future = df_future.dropna(subset=['lag_7','lag_28'])\n",
    "    y_future_pred = model_lgb.predict(df_future[features])\n",
    "    df_future['forecast'] = y_future_pred\n",
    "    df_future['F_day'] = f'F{day_offset}'\n",
    "    future_dfs.append(df_future[['id','forecast','F_day']])\n",
    "\n",
    "forecast_full = pd.concat(future_dfs)\n",
    "submission = forecast_full.pivot(index='id', columns='F_day', values='forecast').reset_index()\n",
    "submission = submission.fillna(0)\n",
    "submission.to_csv(data_path + 'submission.csv', index=False)"
   ]
  },
  {
   "cell_type": "markdown",
   "id": "7714d370-d913-4b1f-b06f-78c55e7abba1",
   "metadata": {},
   "source": [
    " ## 7. Evaluation Dashboard"
   ]
  },
  {
   "cell_type": "code",
   "execution_count": null,
   "id": "0ae80e27-520e-4576-9d06-5e0cc8010a0c",
   "metadata": {},
   "outputs": [],
   "source": [
    "metrics = {\n",
    "    'RMSE': np.sqrt(mean_squared_error(y_valid, y_pred_lgb)),\n",
    "    'MAE': mean_absolute_error(y_valid, y_pred_lgb),\n",
    "    'R2': r2_score(y_valid, y_pred_lgb),\n",
    "    'WRMSSE': wrmsse_score\n",
    "}\n",
    "\n",
    "plt.figure(figsize=(8,4))\n",
    "plt.plot(y_valid.values[:200], label='True')\n",
    "plt.plot(y_pred_lgb[:200], label='Predicted')\n",
    "plt.legend(); plt.title('Validation Comparison'); plt.tight_layout()\n",
    "plt.savefig('validation_comparison.png', dpi=200)\n",
    "plt.close()\n",
    "\n",
    "# Error distribution\n",
    "plt.figure(figsize=(6,4))\n",
    "sns.histplot(y_valid.values - y_pred_lgb, bins=50, kde=True, color='coral')\n",
    "plt.title('Error Distribution'); plt.tight_layout()\n",
    "plt.savefig('error_distribution.png', dpi=200)\n",
    "plt.close()"
   ]
  },
  {
   "cell_type": "markdown",
   "id": "66684328-73d2-41e6-a172-0062a13b6a48",
   "metadata": {},
   "source": [
    " ## 8. Automatic Report Generation (Markdown & PDF)"
   ]
  },
  {
   "cell_type": "code",
   "execution_count": null,
   "id": "7da5a270-15fb-4e48-a09b-8139dc680bc0",
   "metadata": {},
   "outputs": [
    {
     "name": "stdout",
     "output_type": "stream",
     "text": [
      "Markdown report saved. PDF generation skipped (pypandoc not available).\n",
      "Notebook complete. All models, metrics, plots, and reports saved.\n"
     ]
    }
   ],
   "source": [
    "report_md = f\"\"\"# M5 Forecasting Report\n",
    "\n",
    "## Summary Metrics\n",
    "| Metric | Value |\n",
    "|--------|--------|\n",
    "| RMSE | {metrics['RMSE']:.4f} |\n",
    "| MAE | {metrics['MAE']:.4f} |\n",
    "| R² | {metrics['R2']:.4f} |\n",
    "| WRMSSE | {metrics['WRMSSE']:.4f} |\n",
    "\n",
    "## Key Findings\n",
    "- LightGBM achieved strong baseline forecasting accuracy.\n",
    "- WRMSSE shows reasonable performance across hierarchies.\n",
    "- Top features: {', '.join(importances.head(3)['feature'].tolist())}.\n",
    "\n",
    "## Visualizations\n",
    "![Feature Importance](feature_importance.png)\n",
    "![Validation Comparison](validation_comparison.png)\n",
    "![Error Distribution](error_distribution.png)\n",
    "\n",
    "## Files Generated\n",
    "- `submission.csv`: Kaggle-ready submission.\n",
    "- `m5_lightgbm_model.txt`: Trained model.\n",
    "- `validation_results.csv`: Validation predictions.\n",
    "- `feature_importance.csv`: Feature importance scores.\n",
    "\n",
    "*Generated automatically by the M5 Forecasting Notebook.*\n",
    "\"\"\"\n",
    "\n",
    "with open('M5_Report.md', 'w') as f:\n",
    "    f.write(report_md)\n",
    "\n",
    "# Convert to PDF if pypandoc is available\n",
    "try:\n",
    "    import pypandoc\n",
    "    pypandoc.convert_text(report_md, 'pdf', format='md', outputfile='M5_Report.pdf', extra_args=['--standalone'])\n",
    "    print('Markdown and PDF reports generated successfully.')\n",
    "except Exception as e:\n",
    "    print('Markdown report saved. PDF generation skipped (pypandoc not available).')\n",
    "\n",
    "print('Notebook complete. All models, metrics, plots, and reports saved.')"
   ]
  }
 ],
 "metadata": {
  "language_info": {
   "codemirror_mode": {
    "name": "ipython",
    "version": 3
   },
   "file_extension": ".py",
   "mimetype": "text/x-python",
   "name": "python",
   "nbconvert_exporter": "python",
   "pygments_lexer": "ipython3",
   "version": 3
  }
 },
 "nbformat": 4,
 "nbformat_minor": 2
}
